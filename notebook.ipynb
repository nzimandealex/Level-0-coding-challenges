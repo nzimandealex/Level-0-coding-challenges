{
 "cells": [
  {
   "cell_type": "markdown",
   "id": "novel-british",
   "metadata": {},
   "source": [
    "# Instructions\n",
    "\n",
    "Answer the questions and perform any additional analysis you think will help you understand what's going on in the data. You will be required to present your work, you can use this notebook or create slides based on your analysis. Whatever you’re comfortable with is fine with us.\n",
    "\n",
    "The section headings below are only a guide and this notebook should be modified as you see fit."
   ]
  },
  {
   "cell_type": "markdown",
   "id": "material-peripheral",
   "metadata": {},
   "source": [
    "# 1. Data processing"
   ]
  },
  {
   "cell_type": "code",
   "execution_count": null,
   "id": "material-silly",
   "metadata": {},
   "outputs": [],
   "source": []
  },
  {
   "cell_type": "markdown",
   "id": "cheap-navigation",
   "metadata": {},
   "source": [
    "# 2. Exploratory data analysis"
   ]
  },
  {
   "cell_type": "code",
   "execution_count": null,
   "id": "grateful-blend",
   "metadata": {},
   "outputs": [],
   "source": []
  },
  {
   "cell_type": "markdown",
   "id": "interpreted-hurricane",
   "metadata": {},
   "source": [
    "# 3. Conclusion and insights "
   ]
  },
  {
   "cell_type": "code",
   "execution_count": null,
   "id": "actual-marketplace",
   "metadata": {},
   "outputs": [],
   "source": []
  }
 ],
 "metadata": {
  "kernelspec": {
   "display_name": "Python 3",
   "language": "python",
   "name": "python3"
  },
  "language_info": {
   "codemirror_mode": {
    "name": "ipython",
    "version": 3
   },
   "file_extension": ".py",
   "mimetype": "text/x-python",
   "name": "python",
   "nbconvert_exporter": "python",
   "pygments_lexer": "ipython3",
   "version": "3.8.5"
  }
 },
 "nbformat": 4,
 "nbformat_minor": 5
}
