{
 "cells": [
  {
   "cell_type": "markdown",
   "metadata": {},
   "source": [
    "Task O1"
   ]
  },
  {
   "cell_type": "code",
   "execution_count": null,
   "metadata": {
    "vscode": {
     "languageId": "plaintext"
    }
   },
   "outputs": [],
   "source": [
    "x = 0\n",
    "y = 1\n",
    "\n",
    "print(x)\n",
    "print(y)\n",
    "\n",
    "x = x + 3\n",
    "y = y + x\n",
    "\n",
    "print(x)\n",
    "print(y)"
   ]
  },
  {
   "cell_type": "code",
   "execution_count": null,
   "metadata": {
    "vscode": {
     "languageId": "plaintext"
    }
   },
   "outputs": [],
   "source": [
    "Task 02"
   ]
  },
  {
   "cell_type": "code",
   "execution_count": null,
   "metadata": {
    "vscode": {
     "languageId": "plaintext"
    }
   },
   "outputs": [],
   "source": [
    "x = 1 + 1 * 2\n",
    "print(x)\n",
    "\n",
    "y = (1 + 1) * 2\n",
    "print(y)\n",
    "\n",
    "z = 1 + ( 1 * 2 )\n",
    "print(z)\n",
    "\n",
    "a = 1 + 1 * 2 / 2\n",
    "print(a)\n",
    "\n",
    "b = (1 + 1 * 2 ) /  2\n",
    "print(b)"
   ]
  },
  {
   "cell_type": "markdown",
   "metadata": {},
   "source": [
    "Task 03"
   ]
  },
  {
   "cell_type": "markdown",
   "metadata": {},
   "source": [
    "hello = \"Tshepo\"\n",
    "\n",
    "print(\"Hello \" + hello +\"!\")"
   ]
  },
  {
   "cell_type": "markdown",
   "metadata": {},
   "source": [
    "Task 04"
   ]
  },
  {
   "cell_type": "code",
   "execution_count": null,
   "metadata": {
    "vscode": {
     "languageId": "plaintext"
    }
   },
   "outputs": [],
   "source": [
    "even_or_odd = int(input('Enter Number'))\n",
    "if (even_or_odd % 2) == 0:\n",
    "     print('even')\n",
    "\n",
    "else: \n",
    "    print('odd')"
   ]
  },
  {
   "cell_type": "markdown",
   "metadata": {},
   "source": [
    "Task 05"
   ]
  },
  {
   "cell_type": "code",
   "execution_count": null,
   "metadata": {
    "vscode": {
     "languageId": "plaintext"
    }
   },
   "outputs": [],
   "source": [
    "base = float(input('Enter the basenof the triangle.'))\n",
    "\n",
    "height = float(input('Enter the height of the triangle.'))\n",
    "\n",
    "area = 0.5* base * height \n",
    "\n",
    "print(area)"
   ]
  },
  {
   "cell_type": "markdown",
   "metadata": {},
   "source": [
    "Task 06"
   ]
  },
  {
   "cell_type": "code",
   "execution_count": null,
   "metadata": {},
   "outputs": [],
   "source": [
    "x=int(input(\"Enter first number: \"))\n",
    "\n",
    "y=int(input(\"Enter second number: \"))\n",
    "\n",
    "z=int(input(\"Enter Third number: \"))\n",
    "\n",
    "def maximum():\n",
    "\n",
    "    if(x>=y) and (x>=z):\n",
    "\n",
    "        maximum = x\n",
    "\n",
    "    elif(y>=x) and (y>=z):\n",
    "\n",
    "         maximum= y\n",
    "\n",
    "    else:\n",
    "\n",
    "         maximum = z\n",
    "\n",
    "    print(\"Largest number among  the three is\",maximum)\n",
    "    \n",
    "    return maximum"
   ]
  },
  {
   "cell_type": "markdown",
   "metadata": {},
   "source": [
    "Task 07"
   ]
  },
  {
   "cell_type": "code",
   "execution_count": null,
   "metadata": {},
   "outputs": [],
   "source": [
    "temp = float(input('Enter temperature in celsius: '))\n",
    "\n",
    "fahrenheit = (temp * 1.8) + 32\n",
    "print(f'{temp} in Celsius is equal to {fahrenheit} in Fahrenheit')\n",
    "\n",
    "Temp = float(input(\"Enter temperature in Fahrenheit: \"))\n",
    "celsius = (Temp - 32) * 5/9\n",
    "print(f'{Temp} in Fahrenheit is equal to {celsius} in Celsius')"
   ]
  },
  {
   "cell_type": "markdown",
   "metadata": {},
   "source": [
    "Task 08"
   ]
  },
  {
   "cell_type": "code",
   "execution_count": null,
   "metadata": {},
   "outputs": [],
   "source": [
    "time = int(input('Enter number to convert to time: '))\n",
    "\n",
    "hr = time//24\n",
    "min = time%24\n",
    "print(f'{hr} hours, {min} minutes')"
   ]
  },
  {
   "cell_type": "markdown",
   "metadata": {},
   "source": [
    "Task 09"
   ]
  },
  {
   "cell_type": "code",
   "execution_count": null,
   "metadata": {},
   "outputs": [],
   "source": [
    "def vowel(string):\n",
    "    vowels = ['a','e','i','o','u']\n",
    "    result = [letter for letter in string if letter.lower() in vowels]\n",
    "    result = ''.join(result)\n",
    "    print(result)\n",
    "\n",
    "    \n",
    "string = input('Enter word or words: ')\n",
    "vowel(string)"
   ]
  },
  {
   "cell_type": "markdown",
   "metadata": {},
   "source": [
    "Task 10"
   ]
  },
  {
   "cell_type": "code",
   "execution_count": null,
   "metadata": {},
   "outputs": [],
   "source": [
    "#size of array\n",
    "MAX_CHAR=26\n",
    "\n",
    "# Function to find similar characters\n",
    "def printCommon( s1, s2):\n",
    "    # two arrays of length 26 to store occurrence\n",
    "    # of a letters alphabetically for each string\n",
    "    a1 = [0 for i in range(MAX_CHAR)]\n",
    "    a2 = [0 for i in range(MAX_CHAR)]\n",
    "\n",
    "    length1 = len(s1)\n",
    "    length2 = len(s2)\n",
    "\n",
    "    for i in range(0,length1):\n",
    "        a1[ord(s1[i]) - ord('a')] += 1\n",
    "\n",
    "    for i in range(0,length2):\n",
    "        a2[ord(s2[i]) - ord('a')] += 1\n",
    "\n",
    "\n",
    "    for i in range(0,MAX_CHAR):\n",
    "        if (a1[i] != 0 and a2[i] != 0):\n",
    "\n",
    "            # Finding the minimum ooccurrences\n",
    "            # of a character in both strings and print\n",
    "            # the letter that many number of times\n",
    "            for j in range(0,min(a1[i],a2[i])):\n",
    "                ch = chr(ord('a')+i)\n",
    "                print (ch, end='')\n",
    "\n",
    "\n",
    "\n",
    "if __name__==\"__main__\":\n",
    "    s1 = input('Enter words ')\n",
    "    s2 = input('Enter words ')\n",
    "    printCommon(s1, s2)\n"
   ]
  }
 ],
 "metadata": {
  "language_info": {
   "name": "python"
  },
  "orig_nbformat": 4
 },
 "nbformat": 4,
 "nbformat_minor": 2
}
